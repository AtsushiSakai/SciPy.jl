{
 "cells": [
  {
   "cell_type": "code",
   "execution_count": 17,
   "metadata": {},
   "outputs": [],
   "source": [
    "using SciPy\n",
    "using PyPlot"
   ]
  },
  {
   "cell_type": "code",
   "execution_count": 38,
   "metadata": {},
   "outputs": [
    {
     "name": "stdout",
     "output_type": "stream",
     "text": [
      "(11, (0, 10), 5.0, 11.0, 0.0, -1.22)\n",
      "(2, ([1, 2], [3, 4]), [2.0, 3.0], [2.0, 2.0], [0.0, 0.0], [-2.0, -2.0])\n"
     ]
    }
   ],
   "source": [
    "a = collect(0:10)\n",
    "println(stats.describe(a))\n",
    "\n",
    "b = [1 2; 3 4]\n",
    "println(stats.describe(b))"
   ]
  },
  {
   "cell_type": "code",
   "execution_count": null,
   "metadata": {},
   "outputs": [],
   "source": []
  }
 ],
 "metadata": {
  "kernelspec": {
   "display_name": "Julia 1.4.2",
   "language": "julia",
   "name": "julia-1.4"
  },
  "language_info": {
   "file_extension": ".jl",
   "mimetype": "application/julia",
   "name": "julia",
   "version": "1.4.2"
  }
 },
 "nbformat": 4,
 "nbformat_minor": 2
}
