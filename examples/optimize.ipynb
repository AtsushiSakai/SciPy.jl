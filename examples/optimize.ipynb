{
 "cells": [
  {
   "cell_type": "code",
   "execution_count": 1,
   "metadata": {},
   "outputs": [],
   "source": [
    "using SciPy\n",
    "using PyPlot"
   ]
  },
  {
   "cell_type": "markdown",
   "metadata": {},
   "source": [
    "# linprog"
   ]
  },
  {
   "cell_type": "code",
   "execution_count": 8,
   "metadata": {},
   "outputs": [
    {
     "data": {
      "text/plain": [
       "Dict{Any,Any} with 8 entries:\n",
       "  \"fun\"     => -22.0\n",
       "  \"nit\"     => 6\n",
       "  \"status\"  => 0\n",
       "  \"message\" => \"Optimization terminated successfully.\"\n",
       "  \"success\" => true\n",
       "  \"x\"       => [10.0, -3.0]\n",
       "  \"slack\"   => [39.0, 8.46872e-8]\n",
       "  \"con\"     => Float64[]"
      ]
     },
     "execution_count": 8,
     "metadata": {},
     "output_type": "execute_result"
    }
   ],
   "source": [
    "A = [-3 1; \n",
    "      1 2]\n",
    "b = [6, 4]\n",
    "c = [-1, 4]\n",
    "x0_bounds = (nothing, nothing)\n",
    "x1_bounds = (-3, nothing)\n",
    "res = optimize.linprog(c, A_ub=A, b_ub=b, bounds=[x0_bounds, x1_bounds])"
   ]
  },
  {
   "cell_type": "code",
   "execution_count": null,
   "metadata": {},
   "outputs": [],
   "source": []
  }
 ],
 "metadata": {
  "kernelspec": {
   "display_name": "Julia 1.4.2",
   "language": "julia",
   "name": "julia-1.4"
  },
  "language_info": {
   "file_extension": ".jl",
   "mimetype": "application/julia",
   "name": "julia",
   "version": "1.4.2"
  }
 },
 "nbformat": 4,
 "nbformat_minor": 2
}
