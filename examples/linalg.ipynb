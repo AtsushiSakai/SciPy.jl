{
 "cells": [
  {
   "cell_type": "code",
   "execution_count": 2,
   "metadata": {},
   "outputs": [],
   "source": [
    "using SciPy\n",
    "using PyPlot"
   ]
  },
  {
   "cell_type": "markdown",
   "metadata": {},
   "source": [
    "# polar"
   ]
  },
  {
   "cell_type": "code",
   "execution_count": 12,
   "metadata": {},
   "outputs": [
    {
     "name": "stdout",
     "output_type": "stream",
     "text": [
      "u=[0.857492925712544 -0.5144957554275265; 0.5144957554275263 0.8574929257125444]\n",
      "p=[1.886484436567598 1.2004900959975617; 1.2004900959975617 3.9444674582777037]\n"
     ]
    }
   ],
   "source": [
    "a = [1.0 -1;\n",
    "     2.0 4.0]\n",
    "u, p = linalg.polar(a)\n",
    "println(\"u=$u\")\n",
    "println(\"p=$p\")"
   ]
  },
  {
   "cell_type": "code",
   "execution_count": null,
   "metadata": {},
   "outputs": [],
   "source": []
  }
 ],
 "metadata": {
  "kernelspec": {
   "display_name": "Julia 1.4.2",
   "language": "julia",
   "name": "julia-1.4"
  },
  "language_info": {
   "file_extension": ".jl",
   "mimetype": "application/julia",
   "name": "julia",
   "version": "1.4.2"
  }
 },
 "nbformat": 4,
 "nbformat_minor": 2
}
